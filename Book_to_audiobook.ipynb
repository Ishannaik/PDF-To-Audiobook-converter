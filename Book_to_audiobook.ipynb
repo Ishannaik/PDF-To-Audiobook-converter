{
  "cells": [
    {
      "cell_type": "markdown",
      "metadata": {
        "id": "view-in-github",
        "colab_type": "text"
      },
      "source": [
        "<a href=\"https://colab.research.google.com/github/Ishannaik/PDF-To-Audiobook-converter/blob/main/Book_to_audiobook.ipynb\" target=\"_parent\"><img src=\"https://colab.research.google.com/assets/colab-badge.svg\" alt=\"Open In Colab\"/></a>"
      ]
    },
    {
      "cell_type": "markdown",
      "metadata": {
        "id": "PNe4bCeF5KAI"
      },
      "source": [
        "# Main Section\n"
      ]
    },
    {
      "cell_type": "code",
      "execution_count": null,
      "metadata": {
        "id": "NsWJkv5fgR0f"
      },
      "outputs": [],
      "source": [
        "!pip install pymupdf pydub requests\n",
        "!pip install elevenlabs -U"
      ]
    },
    {
      "cell_type": "code",
      "execution_count": null,
      "metadata": {
        "id": "hX8E_QlSXTPC"
      },
      "outputs": [],
      "source": [
        "import requests\n",
        "\n",
        "def get_eleven_labs_voices(api_key):\n",
        "    url = \"https://api.elevenlabs.io/v1/voices\"\n",
        "    headers = {\n",
        "        \"xi-api-key\": api_key\n",
        "    }\n",
        "    response = requests.get(url, headers=headers)\n",
        "    if response.status_code == 200:\n",
        "        return response.json()[\"voices\"]\n",
        "    else:\n",
        "        print(f\"Error: {response.status_code}\")\n",
        "        return None\n",
        "\n",
        "# Usage\n",
        "api_key = \"INSERT API KEY HERE\"\n",
        "voices = get_eleven_labs_voices(api_key)\n",
        "if voices:\n",
        "    for voice in voices:\n",
        "        print(f\"{voice['name']} - {voice['voice_id']}\")\n",
        "else:\n",
        "    print(\"Could not retrieve voices.\")\n"
      ]
    },
    {
      "cell_type": "markdown",
      "metadata": {
        "id": "tYkvGSCQQnYD"
      },
      "source": [
        "# RUN ME ->"
      ]
    },
    {
      "cell_type": "code",
      "execution_count": null,
      "metadata": {
        "id": "EerP9zh0mwrY"
      },
      "outputs": [],
      "source": [
        "import os\n",
        "import re\n",
        "import shutil\n",
        "import fitz  # PyMuPDF\n",
        "import time\n",
        "from google.colab import drive\n",
        "from elevenlabs import generate, set_api_key\n",
        "from pydub import AudioSegment\n",
        "\n",
        "# Connect to Google Drive if not connected\n",
        "if not os.path.exists('/content/drive/MyDrive'):\n",
        "    drive.mount('/content/drive')\n",
        "\n",
        "# Load the PDF text\n",
        "pdf_path = 'INSERT PATH HERE'  # Ensure this path is correct\n",
        "pdf_file_name = os.path.splitext(os.path.basename(pdf_path))[0]  # Extract the file name (excluding extension)\n",
        "\n",
        "# Create necessary folders in Colab for storing chunks and the complete audiobook\n",
        "chunks_colab_folder = f'/content/AUDIOBOOK/Chunks/{pdf_file_name}/'\n",
        "audiobook_colab_folder = f'/content/AUDIOBOOK/Audiobook/{pdf_file_name}/'\n",
        "\n",
        "os.makedirs(chunks_colab_folder, exist_ok=True)\n",
        "os.makedirs(audiobook_colab_folder, exist_ok=True)\n",
        "\n",
        "# Create necessary folders in Google Drive for storing chunks and the complete audiobook\n",
        "chunks_drive_folder = f'/content/drive/MyDrive/Audiobooks/Chunks/{pdf_file_name}/'\n",
        "audiobook_drive_folder = f'/content/drive/MyDrive/Audiobooks/Audiobook/{pdf_file_name}/'\n",
        "\n",
        "os.makedirs(chunks_drive_folder, exist_ok=True)\n",
        "os.makedirs(audiobook_drive_folder, exist_ok=True)\n",
        "\n",
        "# Set your API key (replace <YOUR_API_KEY> with your actual API key)\n",
        "set_api_key(\"INSERT API KEY HERE\")\n",
        "\n",
        "def extract_text_from_pdf(pdf_path):\n",
        "    try:\n",
        "        doc = fitz.open(pdf_path)\n",
        "        text = \"\"\n",
        "        for page in doc:\n",
        "            text += page.get_text()\n",
        "        doc.close()\n",
        "        print(f\"Text extracted from PDF successfully, length: {len(text)} characters\")\n",
        "        return text\n",
        "    except Exception as e:\n",
        "        print(f\"Error extracting text from PDF: {e}\")\n",
        "        return \"\"\n",
        "\n",
        "def upload_missing_chunks_to_drive():\n",
        "    colab_chunk_files = set(os.listdir(chunks_colab_folder))\n",
        "    drive_chunk_files = set(os.listdir(chunks_drive_folder))\n",
        "    missing_chunks = colab_chunk_files - drive_chunk_files\n",
        "\n",
        "    if missing_chunks:\n",
        "        print(f\"Uploading missing chunks to Google Drive...\")\n",
        "        for chunk_filename in missing_chunks:\n",
        "            chunk_colab_path = os.path.join(chunks_colab_folder, chunk_filename)\n",
        "            chunk_drive_path = os.path.join(chunks_drive_folder, chunk_filename)\n",
        "            shutil.copy(chunk_colab_path, chunk_drive_path)\n",
        "        print(f\"Uploaded {len(missing_chunks)} missing chunks to Google Drive.\")\n",
        "\n",
        "def download_missing_chunks_to_colab():\n",
        "    colab_chunk_files = set(os.listdir(chunks_colab_folder))\n",
        "    drive_chunk_files = set(os.listdir(chunks_drive_folder))\n",
        "    missing_chunks = drive_chunk_files - colab_chunk_files\n",
        "\n",
        "    if missing_chunks:\n",
        "        print(f\"Downloading missing chunks to Colab...\")\n",
        "        for chunk_filename in missing_chunks:\n",
        "            chunk_drive_path = os.path.join(chunks_drive_folder, chunk_filename)\n",
        "            chunk_colab_path = os.path.join(chunks_colab_folder, chunk_filename)\n",
        "            shutil.copy(chunk_drive_path, chunk_colab_path)\n",
        "        print(f\"Downloaded {len(missing_chunks)} missing chunks to Colab.\")\n",
        "\n",
        "def split_text_into_chunks(text):\n",
        "    chunks = []\n",
        "    max_chunk_length = 5000  # Maximum length for a chunk\n",
        "    current_chunk = \"\"\n",
        "\n",
        "    for sentence in re.split(r'(?<=[.!?])\\s+', text):\n",
        "        if len(current_chunk) + len(sentence) <= max_chunk_length:\n",
        "            current_chunk += sentence\n",
        "        else:\n",
        "            chunks.append(current_chunk)\n",
        "            current_chunk = sentence\n",
        "    if current_chunk:\n",
        "        chunks.append(current_chunk)\n",
        "\n",
        "    return chunks\n",
        "\n",
        "def generate_mp3(text_chunks, voice_id, start=1):\n",
        "    i = start\n",
        "    total_duration = 0\n",
        "    total_characters = len(\"\".join(text_chunks))\n",
        "    total_word_count = len(re.findall(r'\\w+', \"\".join(text_chunks)))\n",
        "    total_word_left = total_word_count\n",
        "\n",
        "    for chunk in text_chunks:\n",
        "        print(f\"Generating MP3 for chunk {i}...\")\n",
        "        chunk_mp3_file_path = os.path.join(chunks_colab_folder, f'{i}.mp3')\n",
        "\n",
        "        if os.path.exists(chunk_mp3_file_path):\n",
        "            print(f\"MP3 for chunk {i} already exists, skipping...\")\n",
        "            i += 1\n",
        "            continue\n",
        "\n",
        "        try:\n",
        "            start_time = time.time()\n",
        "            audio = generate(\n",
        "                text=chunk,\n",
        "                voice=voice_id,\n",
        "                model='eleven_multilingual_v1'\n",
        "            )\n",
        "            end_time = time.time()\n",
        "            duration_ms = len(audio)\n",
        "            duration_sec = duration_ms / 1000\n",
        "            word_count = len(re.findall(r'\\w+', chunk))\n",
        "            total_duration += duration_sec\n",
        "            total_characters -= len(chunk)\n",
        "            total_word_left -= word_count\n",
        "\n",
        "            with open(chunk_mp3_file_path, 'wb') as mp3_file:\n",
        "                mp3_file.write(audio)\n",
        "\n",
        "            print(f\"MP3 for chunk {i} generated successfully.\")\n",
        "            print(f\"Duration: {duration_sec} seconds\")\n",
        "            print(f\"Word Count: {word_count} words\")\n",
        "            print(f\"Total Duration So Far: {total_duration} seconds\")\n",
        "            print(f\"Characters Left: {total_characters} characters\")\n",
        "            print(f\"Words Left: {total_word_left} words\")\n",
        "\n",
        "            save_to_drive(chunk_mp3_file_path, chunks_drive_folder)\n",
        "            print(f\"MP3 for chunk {i} uploaded to Google Drive (Chunks).\")\n",
        "\n",
        "        except Exception as e:\n",
        "            print(f\"Exception occurred while generating MP3 for chunk {i}: {e}\")\n",
        "            break\n",
        "        i += 1\n",
        "\n",
        "def save_to_drive(file_path, drive_folder):\n",
        "    try:\n",
        "        shutil.copy(file_path, drive_folder)\n",
        "        print(f\"File uploaded to Google Drive: {os.path.basename(file_path)}\")\n",
        "    except Exception as e:\n",
        "        print(f\"Error uploading to Google Drive: {e}\")\n",
        "\n",
        "# Load the PDF text\n",
        "text = extract_text_from_pdf(pdf_path)\n",
        "\n",
        "if text:\n",
        "    # Split the text into chunks while preserving sentences\n",
        "    text_chunks = split_text_into_chunks(text)\n",
        "\n",
        "    # Upload missing chunks to Google Drive\n",
        "    upload_missing_chunks_to_drive()\n",
        "\n",
        "    # Download missing chunks to Colab\n",
        "    download_missing_chunks_to_colab()\n",
        "\n",
        "    # Generate MP3 files from text chunks\n",
        "    generate_mp3(text_chunks, voice_id='INSERT VOICE ID HERE')\n",
        "\n",
        "    # Calculate the total duration of the audiobook\n",
        "    total_duration = 0\n",
        "    for i in range(1, len(text_chunks) + 1):\n",
        "        chunk_mp3_file_path = os.path.join(chunks_colab_folder, f'{i}.mp3')\n",
        "        if os.path.exists(chunk_mp3_file_path):\n",
        "            chunk_audio = AudioSegment.from_mp3(chunk_mp3_file_path)\n",
        "            total_duration += len(chunk_audio) / 1000  # Convert milliseconds to seconds\n",
        "\n",
        "    print(\"Audiobook generation complete.\")\n",
        "    print(f\"Total Duration: {total_duration} seconds\")\n",
        "else:\n",
        "    print(\"No text extracted from PDF; cannot proceed with audiobook generation.\")\n"
      ]
    },
    {
      "cell_type": "markdown",
      "metadata": {
        "id": "-GQeldz86H9F"
      },
      "source": [
        "# COMBINE UNCOMBINED CHUNKS\n"
      ]
    },
    {
      "cell_type": "code",
      "execution_count": null,
      "metadata": {
        "id": "yoViD-_J6D-L"
      },
      "outputs": [],
      "source": [
        "from google.colab import drive\n",
        "drive.mount('/content/drive')\n",
        "\n",
        "from pydub import AudioSegment\n",
        "import os\n",
        "\n",
        "# Specify the path to the directory containing your MP3 files\n",
        "audio_directory = 'INSERT PATH HERE'\n",
        "\n",
        "# Get the folder name\n",
        "folder_name = os.path.basename(audio_directory)\n",
        "\n",
        "# Get a list of all MP3 files in the directory\n",
        "audio_files = [f for f in os.listdir(audio_directory) if f.endswith('.mp3')]\n",
        "\n",
        "# Sort the files in case they are not in order\n",
        "audio_files.sort()\n",
        "\n",
        "# Check if there are any files to combine\n",
        "if len(audio_files) > 0:\n",
        "    # Create an empty AudioSegment to store the combined audio\n",
        "    combined_audio = AudioSegment.empty()\n",
        "\n",
        "    # Initialize a progress message\n",
        "    progress_message = \"Combining:\"\n",
        "\n",
        "    # Load each audio file, add it to the combined audio, and update the progress message\n",
        "    for i, file in enumerate(audio_files, start=1):\n",
        "        audio_path = os.path.join(audio_directory, file)\n",
        "        audio = AudioSegment.from_mp3(audio_path)\n",
        "        combined_audio += audio\n",
        "        progress_message += f\" {i}\"\n",
        "\n",
        "    # Export the combined audio to a file with the folder name\n",
        "    combined_filename = f'{folder_name}.mp3'\n",
        "    combined_audio.export(os.path.join(audio_directory, combined_filename), format='mp3')\n",
        "\n",
        "    print(f'Combined {len(audio_files)} audio files into \"{combined_filename}\"')\n",
        "    print(progress_message)\n",
        "else:\n",
        "    print('No audio files to combine.')\n"
      ]
    },
    {
      "cell_type": "markdown",
      "metadata": {
        "id": "r-xas63D5VFr"
      },
      "source": [
        "# Split into Half"
      ]
    },
    {
      "cell_type": "code",
      "execution_count": null,
      "metadata": {
        "id": "JIOsRadZAPKN"
      },
      "outputs": [],
      "source": [
        "from pydub import AudioSegment\n",
        "import os\n",
        "\n",
        "# Create the directory if it doesn't exist\n",
        "output_directory = '/content/AUDIOBOOK/'\n",
        "if not os.path.exists(output_directory):\n",
        "    os.makedirs(output_directory)\n",
        "\n",
        "# Specify the folder for MP3 chunks\n",
        "chunks_folder = 'INSERT PATH HERE'\n",
        "\n",
        "# Function to combine audio chunks\n",
        "def combine_chunks(chunk_paths, output_path):\n",
        "    combined_audio = AudioSegment.empty()\n",
        "    for i, chunk_path in enumerate(chunk_paths, start=1):\n",
        "        try:\n",
        "            print(f\"Combining chunk {i} of {len(chunk_paths)}: {chunk_path}\")\n",
        "            chunk_audio = AudioSegment.from_mp3(chunk_path)\n",
        "            combined_audio += chunk_audio\n",
        "        except Exception as e:\n",
        "            print(f\"Error combining chunk {i}: {e}\")\n",
        "    combined_audio.export(output_path, format='mp3')\n",
        "    print(f\"Combined audio saved to: {output_path}\")\n",
        "\n",
        "# List all chunk files\n",
        "chunk_files = [os.path.join(chunks_folder, file) for file in os.listdir(chunks_folder) if file.endswith('.mp3')]\n",
        "chunk_files.sort(key=lambda f: int(''.join(filter(str.isdigit, f))))\n",
        "\n",
        "# Split the list into parts of 100 chunks\n",
        "chunk_parts = [chunk_files[i:i + 100] for i in range(0, len(chunk_files), 100)]\n",
        "\n",
        "# Combine chunks in each part\n",
        "for i, chunk_part in enumerate(chunk_parts, start=1):\n",
        "    part_output_path = os.path.join(output_directory, f'part_{i}_audiobook.mp3')\n",
        "    combine_chunks(chunk_part, part_output_path)\n"
      ]
    },
    {
      "cell_type": "code",
      "execution_count": null,
      "metadata": {
        "id": "fxoAtxIJk2A-",
        "colab": {
          "base_uri": "https://localhost:8080/"
        },
        "outputId": "725c95bd-f02b-4c95-88c1-c84a11bc40ea"
      },
      "outputs": [
        {
          "output_type": "stream",
          "name": "stdout",
          "text": [
            "Adding /content/AUDIOBOOK/part_1_audiobook.mp3 to the final audiobook\n",
            "Adding /content/AUDIOBOOK/part_2_audiobook.mp3 to the final audiobook\n"
          ]
        }
      ],
      "source": [
        "from pydub import AudioSegment\n",
        "import os\n",
        "\n",
        "# Directory where the parts are stored\n",
        "parts_directory = '/content/AUDIOBOOK/'\n",
        "\n",
        "# List all part files\n",
        "part_files = [os.path.join(parts_directory, file) for file in os.listdir(parts_directory) if file.startswith('part_') and file.endswith('.mp3')]\n",
        "part_files.sort(key=lambda f: int(''.join(filter(str.isdigit, f))))\n",
        "\n",
        "# Initialize an empty AudioSegment object\n",
        "combined_audio = AudioSegment.empty()\n",
        "\n",
        "# Combine all parts\n",
        "for part_file in part_files:\n",
        "    try:\n",
        "        print(f\"Adding {part_file} to the final audiobook\")\n",
        "        part_audio = AudioSegment.from_mp3(part_file)\n",
        "        combined_audio += part_audio\n",
        "    except Exception as e:\n",
        "        print(f\"Error processing {part_file}: {e}\")\n",
        "\n",
        "# Export the final combined audiobook\n",
        "final_audiobook_path = '/content/AUDIOBOOK/full_audiobook.mp3'\n",
        "combined_audio.export(final_audiobook_path, format='mp3')\n",
        "\n",
        "print(f\"Final audiobook created at: {final_audiobook_path}\")\n"
      ]
    },
    {
      "cell_type": "code",
      "execution_count": null,
      "metadata": {
        "id": "MhaKYxHRoQ9r"
      },
      "outputs": [],
      "source": [
        "import fitz  # PyMuPDF\n",
        "\n",
        "# Define the PDF file path\n",
        "pdf_path = 'INSERT PATH HERE'  # Replace with your PDF file path\n",
        "\n",
        "# Function to extract text from PDF\n",
        "def extract_text_from_pdf(pdf_path):\n",
        "    try:\n",
        "        doc = fitz.open(pdf_path)\n",
        "        text = \"\"\n",
        "        for page in doc:\n",
        "            text += page.get_text()\n",
        "        return text\n",
        "    except Exception as e:\n",
        "        print(f\"Error extracting text from PDF: {e}\")\n",
        "        return \"\"\n",
        "\n",
        "# Call the function to extract text\n",
        "pdf_text = extract_text_from_pdf(pdf_path)\n",
        "\n",
        "# Calculate the number of characters\n",
        "character_count = len(pdf_text)\n",
        "\n",
        "# Print the result\n",
        "print(f\"Number of characters in the PDF: {character_count}\")\n"
      ]
    },
    {
      "cell_type": "markdown",
      "metadata": {
        "id": "il7fZWL_YLDo"
      },
      "source": [
        "# EXTRA"
      ]
    },
    {
      "cell_type": "code",
      "execution_count": null,
      "metadata": {
        "id": "bLCZKcr8uVwv"
      },
      "outputs": [],
      "source": [
        "import os\n",
        "import re\n",
        "import shutil\n",
        "import fitz  # PyMuPDF\n",
        "import time\n",
        "from google.colab import drive\n",
        "from elevenlabs import generate, set_api_key\n",
        "from pydub import AudioSegment\n",
        "\n",
        "# Key Variables for Easy Editing\n",
        "pdf_path = 'INSERT PATH HERE'\n",
        "chunks_colab_folder = '/content/AUDIOBOOK/Chunks/'\n",
        "audiobook_colab_folder = '/content/AUDIOBOOK/Audiobook/'\n",
        "chunks_drive_folder = '/content/drive/MyDrive/Audiobooks/Chunks/'\n",
        "audiobook_drive_folder = '/content/drive/MyDrive/Audiobooks/Audiobook/'\n",
        "api_key = \"INSERT API KEY HERE\"\n",
        "voice_id = 'INSERT VOICE ID HERE'\n",
        "\n",
        "# Connect to Google Drive if not connected\n",
        "if not os.path.exists('/content/drive/MyDrive'):\n",
        "    drive.mount('/content/drive')\n",
        "\n",
        "# Set your API key for Eleven Labs\n",
        "set_api_key(api_key)\n",
        "\n",
        "# Function to extract text from PDF\n",
        "def extract_text_from_pdf(pdf_path):\n",
        "    try:\n",
        "        doc = fitz.open(pdf_path)\n",
        "        text = \"\"\n",
        "        for page in doc:\n",
        "            text += page.get_text()\n",
        "        doc.close()\n",
        "        return text\n",
        "    except Exception as e:\n",
        "        print(f\"Error extracting text from PDF: {e}\")\n",
        "        return \"\"\n",
        "\n",
        "# Function to upload chunks to Google Drive\n",
        "def save_to_drive(file_path, drive_folder):\n",
        "    try:\n",
        "        shutil.copy(file_path, drive_folder)\n",
        "        print(f\"File uploaded to Google Drive: {os.path.basename(file_path)}\")\n",
        "    except Exception as e:\n",
        "        print(f\"Error uploading to Google Drive: {e}\")\n",
        "\n",
        "# Function to split text into chunks\n",
        "def split_text_into_chunks(text, max_chunk_length=5000):\n",
        "    chunks = []\n",
        "    current_chunk = \"\"\n",
        "    for sentence in re.split(r'(?<=[.!?])\\s+', text):\n",
        "        if len(current_chunk) + len(sentence) <= max_chunk_length:\n",
        "            current_chunk += sentence\n",
        "        else:\n",
        "            chunks.append(current_chunk)\n",
        "            current_chunk = sentence\n",
        "    if current_chunk:\n",
        "        chunks.append(current_chunk)\n",
        "    return chunks\n",
        "\n",
        "# Function to generate MP3 files\n",
        "def generate_mp3(chunks, voice_id, chunks_folder, drive_folder):\n",
        "    total_duration = 0\n",
        "    total_characters_left = sum(len(chunk) for chunk in chunks)\n",
        "    total_words_left = sum(len(re.findall(r'\\w+', chunk)) for chunk in chunks)\n",
        "\n",
        "    for i, chunk in enumerate(chunks, start=1):\n",
        "        chunk_mp3_file_path = os.path.join(chunks_folder, f'{i}.mp3')\n",
        "        if os.path.exists(chunk_mp3_file_path):\n",
        "            print(f\"MP3 for chunk {i} already exists, skipping...\")\n",
        "            continue\n",
        "\n",
        "        try:\n",
        "            audio = generate(text=chunk, voice=voice_id, model='eleven_multilingual_v1')\n",
        "            with open(chunk_mp3_file_path, 'wb') as mp3_file:\n",
        "                mp3_file.write(audio)\n",
        "            chunk_duration = len(AudioSegment.from_file(chunk_mp3_file_path)) / 1000\n",
        "            total_duration += chunk_duration\n",
        "            total_characters_left -= len(chunk)\n",
        "            total_words_left -= len(re.findall(r'\\w+', chunk))\n",
        "            save_to_drive(chunk_mp3_file_path, drive_folder)\n",
        "            print(f\"MP3 for chunk {i} generated successfully. Duration: {chunk_duration} seconds\")\n",
        "            print(f\"Total Duration So Far: {total_duration} seconds\")\n",
        "            print(f\"Characters Left: {total_characters_left} characters\")\n",
        "            print(f\"Words Left: {total_words_left} words\")\n",
        "        except Exception as e:\n",
        "            print(f\"Exception occurred while generating MP3 for chunk {i}: {e}\")\n",
        "            break\n",
        "\n",
        "    return total_duration\n",
        "\n",
        "# Function to concatenate MP3 chunks\n",
        "def concatenate_mp3_files(chunks_folder, audiobook_folder, file_name):\n",
        "    audiobook = AudioSegment.silent(duration=0)  # Create an empty AudioSegment\n",
        "    for mp3_file in sorted(os.listdir(chunks_folder), key=lambda x: int(x.split('.')[0])):\n",
        "        audio_chunk = AudioSegment.from_mp3(os.path.join(chunks_folder, mp3_file))\n",
        "        audiobook += audio_chunk\n",
        "\n",
        "    audiobook_file_path = os.path.join(audiobook_folder, file_name)\n",
        "    audiobook.export(audiobook_file_path, format=\"mp3\")\n",
        "    return audiobook_file_path\n",
        "\n",
        "# Ensure necessary folders exist\n",
        "os.makedirs(chunks_colab_folder, exist_ok=True)\n",
        "os.makedirs(audiobook_colab_folder, exist_ok=True)\n",
        "os.makedirs(chunks_drive_folder, exist_ok=True)\n",
        "os.makedirs(audiobook_drive_folder, exist_ok=True)\n",
        "\n",
        "# Extract text from PDF\n",
        "text = extract_text_from_pdf(pdf_path)\n",
        "\n",
        "# Split the text into chunks\n",
        "text_chunks = split_text_into_chunks(text)\n",
        "\n",
        "# Generate MP3 files from text chunks\n",
        "generate_mp3(text_chunks, voice_id, chunks_folder=chunks_colab_folder, drive_folder=chunks_drive_folder)\n",
        "\n",
        "# Concatenate MP3 files into a single audiobook\n",
        "audiobook_file_name = \"Complete_Audiobook.mp3\"\n",
        "audiobook_path = concatenate_mp3_files(chunks_colab_folder, audiobook_colab_folder, audiobook_file_name)\n",
        "\n",
        "# Upload the complete audiobook to Google Drive\n",
        "save_to_drive(audiobook_path, audiobook_drive_folder)\n",
        "\n",
        "print(f\"Audiobook generation complete. Audiobook file saved as: {audiobook_file_name}\")\n"
      ]
    },
    {
      "cell_type": "code",
      "execution_count": null,
      "metadata": {
        "id": "t9WvEb27ZVd1"
      },
      "outputs": [],
      "source": [
        "!rm -r /content/AUDIOBOOK"
      ]
    },
    {
      "cell_type": "code",
      "source": [
        "from google.colab import files\n",
        "\n",
        "# Specify the path to the MP3 file\n",
        "mp3_path = '/content/AUDIOBOOK/part_1_audiobook.mp3'\n",
        "\n",
        "# Create a download link for the MP3 file\n",
        "files.download(mp3_path)\n"
      ],
      "metadata": {
        "id": "MfA2fNCf3Ytu",
        "outputId": "e9ab0cc4-27a6-45b3-9221-62fca138c6d1",
        "colab": {
          "base_uri": "https://localhost:8080/",
          "height": 34
        }
      },
      "execution_count": null,
      "outputs": [
        {
          "output_type": "display_data",
          "data": {
            "text/plain": [
              "<IPython.core.display.Javascript object>"
            ],
            "application/javascript": [
              "\n",
              "    async function download(id, filename, size) {\n",
              "      if (!google.colab.kernel.accessAllowed) {\n",
              "        return;\n",
              "      }\n",
              "      const div = document.createElement('div');\n",
              "      const label = document.createElement('label');\n",
              "      label.textContent = `Downloading \"${filename}\": `;\n",
              "      div.appendChild(label);\n",
              "      const progress = document.createElement('progress');\n",
              "      progress.max = size;\n",
              "      div.appendChild(progress);\n",
              "      document.body.appendChild(div);\n",
              "\n",
              "      const buffers = [];\n",
              "      let downloaded = 0;\n",
              "\n",
              "      const channel = await google.colab.kernel.comms.open(id);\n",
              "      // Send a message to notify the kernel that we're ready.\n",
              "      channel.send({})\n",
              "\n",
              "      for await (const message of channel.messages) {\n",
              "        // Send a message to notify the kernel that we're ready.\n",
              "        channel.send({})\n",
              "        if (message.buffers) {\n",
              "          for (const buffer of message.buffers) {\n",
              "            buffers.push(buffer);\n",
              "            downloaded += buffer.byteLength;\n",
              "            progress.value = downloaded;\n",
              "          }\n",
              "        }\n",
              "      }\n",
              "      const blob = new Blob(buffers, {type: 'application/binary'});\n",
              "      const a = document.createElement('a');\n",
              "      a.href = window.URL.createObjectURL(blob);\n",
              "      a.download = filename;\n",
              "      div.appendChild(a);\n",
              "      a.click();\n",
              "      div.remove();\n",
              "    }\n",
              "  "
            ]
          },
          "metadata": {}
        },
        {
          "output_type": "display_data",
          "data": {
            "text/plain": [
              "<IPython.core.display.Javascript object>"
            ],
            "application/javascript": [
              "download(\"download_5d92609d-c5b7-4ecf-898c-ea6c99162322\", \"part_1_audiobook.mp3\", 232071018)"
            ]
          },
          "metadata": {}
        }
      ]
    },
    {
      "cell_type": "code",
      "source": [
        "from google.colab import files\n",
        "\n",
        "# Specify the path to the MP3 file\n",
        "mp3_path = '/content/AUDIOBOOK/part_2_audiobook.mp3'\n",
        "\n",
        "# Create a download link for the MP3 file\n",
        "files.download(mp3_path)\n"
      ],
      "metadata": {
        "id": "zqmxtvHk3b05",
        "outputId": "6bb4fc94-690f-47b1-c39e-57250144b9e2",
        "colab": {
          "base_uri": "https://localhost:8080/",
          "height": 34
        }
      },
      "execution_count": null,
      "outputs": [
        {
          "output_type": "display_data",
          "data": {
            "text/plain": [
              "<IPython.core.display.Javascript object>"
            ],
            "application/javascript": [
              "\n",
              "    async function download(id, filename, size) {\n",
              "      if (!google.colab.kernel.accessAllowed) {\n",
              "        return;\n",
              "      }\n",
              "      const div = document.createElement('div');\n",
              "      const label = document.createElement('label');\n",
              "      label.textContent = `Downloading \"${filename}\": `;\n",
              "      div.appendChild(label);\n",
              "      const progress = document.createElement('progress');\n",
              "      progress.max = size;\n",
              "      div.appendChild(progress);\n",
              "      document.body.appendChild(div);\n",
              "\n",
              "      const buffers = [];\n",
              "      let downloaded = 0;\n",
              "\n",
              "      const channel = await google.colab.kernel.comms.open(id);\n",
              "      // Send a message to notify the kernel that we're ready.\n",
              "      channel.send({})\n",
              "\n",
              "      for await (const message of channel.messages) {\n",
              "        // Send a message to notify the kernel that we're ready.\n",
              "        channel.send({})\n",
              "        if (message.buffers) {\n",
              "          for (const buffer of message.buffers) {\n",
              "            buffers.push(buffer);\n",
              "            downloaded += buffer.byteLength;\n",
              "            progress.value = downloaded;\n",
              "          }\n",
              "        }\n",
              "      }\n",
              "      const blob = new Blob(buffers, {type: 'application/binary'});\n",
              "      const a = document.createElement('a');\n",
              "      a.href = window.URL.createObjectURL(blob);\n",
              "      a.download = filename;\n",
              "      div.appendChild(a);\n",
              "      a.click();\n",
              "      div.remove();\n",
              "    }\n",
              "  "
            ]
          },
          "metadata": {}
        },
        {
          "output_type": "display_data",
          "data": {
            "text/plain": [
              "<IPython.core.display.Javascript object>"
            ],
            "application/javascript": [
              "download(\"download_eb9aa0c2-2e4a-4fc8-95bf-7cad588932fd\", \"part_2_audiobook.mp3\", 228230182)"
            ]
          },
          "metadata": {}
        }
      ]
    },
    {
      "cell_type": "code",
      "source": [],
      "metadata": {
        "id": "L1m1-bbW3d6u"
      },
      "execution_count": null,
      "outputs": []
    }
  ],
  "metadata": {
    "colab": {
      "provenance": [],
      "include_colab_link": true
    },
    "kernelspec": {
      "display_name": "Python 3",
      "name": "python3"
    },
    "language_info": {
      "name": "python"
    }
  },
  "nbformat": 4,
  "nbformat_minor": 0
}